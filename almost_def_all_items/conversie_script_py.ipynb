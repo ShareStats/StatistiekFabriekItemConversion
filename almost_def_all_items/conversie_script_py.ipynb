{
 "cells": [
  {
   "cell_type": "code",
   "execution_count": 1,
   "id": "55aeab6e",
   "metadata": {},
   "outputs": [],
   "source": [
    "import pandas as pd\n",
    "import re\n",
    "import os\n",
    "import codecs"
   ]
  },
  {
   "cell_type": "code",
   "execution_count": 4,
   "metadata": {},
   "outputs": [],
   "source": [
    "import chardet\n",
    "\n",
    "def detect_encoding(file_path):\n",
    "    with open(file_path, 'rb') as f:\n",
    "        result = chardet.detect(f.read())\n",
    "        return result['encoding']\n",
    "\n",
    "# Example usage\n",
    "#testcode = 'C:\\\\Users\\\\stenp\\\\Documents\\\\Werk_C\\\\StatistiekFabriekItemConversion\\\\MultipleChoice\\\\MultipleChoice_Items\\\\Inferential statistics\\\\uva-inferential statistics-107-nl.Rmd\\\\uva-inferential statistics-107-nl.Rmd'\n",
    "#testcode = 'C:\\\\Users\\\\stenp\\\\Documents\\\\Werk_C\\\\StatistiekFabriekItemConversion\\\\MultipleChoice\\\\MultipleChoice_Items\\\\Inferential statistics\\\\uva-inferential statistics-104-nl.Rmd\\\\uva-inferential statistics-104-nl.Rmd'\n",
    "#testcode = 'C:\\\\Users\\\\stenp\\\\Documents\\\\Werk_C\\\\StatistiekFabriekItemConversion\\\\MultipleChoice\\\\MultipleChoice_Items\\\\Inferential statistics\\\\uva-inferential statistics-104-nl_corrected.Rmd\\\\uva-inferential statistics-104-nl_corrected.Rmd'\n",
    "#testcode = 'C:\\\\Users\\\\stenp\\\\Documents\\\\Werk_C\\\\StatistiekFabriekItemConversion\\\\MultipleChoice\\\\MultipleChoice_Items\\\\Descriptive statistics\\\\uva-descriptive statistics-124-nl.Rmd\\\\uva-descriptive statistics-124-nl.Rmd'\n",
    "#testcode = 'C:\\\\Users\\\\stenp\\\\Documents\\\\Werk_C\\\\StatistiekFabriekItemConversion\\\\MultipleChoice\\\\MultipleChoice_Items\\\\Inferential statistics\\\\uva-inferential statistics-269-nl.Rmd\\\\uva-inferential statistics-269-nl.Rmd'\n",
    "#testcode = 'C:\\\\Users\\\\stenp\\\\Documents\\\\Werk_C\\\\StatistiekFabriekItemConversion\\\\MultipleChoice\\\\MultipleChoice_Items\\\\Descriptive statistics\\\\uva-descriptive statistics-124-nl_corrected.Rmd\\\\uva-descriptive statistics-124-nl_corrected.Rmd'\n",
    "#file_encoding = detect_encoding(testcode)\n",
    "#print(file_encoding)\n",
    "\n",
    "#print(f\"The detected encoding for {testcode} is: {file_encoding}\")"
   ]
  },
  {
   "cell_type": "markdown",
   "metadata": {},
   "source": [
    "# Directories"
   ]
  },
  {
   "cell_type": "code",
   "execution_count": 9,
   "metadata": {},
   "outputs": [],
   "source": [
    "#multiple choice dir's\n",
    "mc_directory_pc = \"C:\\\\Users\\\\stenp\\\\Documents\\\\Werk\\\\StatistiekFabriekItemConversion\\\\MultipleChoice\\\\MultipleChoice_Items\"\n",
    "mc_directory_laptop = \"C:\\\\Users\\\\stenp\\\\Documents\\\\Werk_C\\\\StatistiekFabriekItemConversion\\\\MultipleChoice\\\\MultipleChoice_Items\"\n",
    "mc_ssd = \"E:\\\\Werk_C\\\\StatistiekFabriekItemConversion\\\\MultipleChoice\\\\MultipleChoice_Items\"\n",
    "\n",
    "# Openstring/probability\n",
    "osp_directory_laptop = \"C:\\\\Users\\\\nicol\\\\Documents\\\\Werk\\\\StatistiekFabriekItemConversion\\\\OpenString\\\\OpenString_Items\\\\Probability\"\n",
    "\n",
    "# Openstring/Inferential Statistics\n",
    "osi_directory_laptop = \"C:\\\\Users\\\\nicol\\\\Documents\\\\Werk\\\\StatistiekFabriekItemConversion\\\\OpenString\\\\OpenString_Items\\\\Inferential Statistics\""
   ]
  },
  {
   "cell_type": "markdown",
   "metadata": {},
   "source": [
    "# Inladen en corrigeren conversietabel"
   ]
  },
  {
   "cell_type": "code",
   "execution_count": 10,
   "id": "88f1fc93",
   "metadata": {},
   "outputs": [
    {
     "name": "stdout",
     "output_type": "stream",
     "text": [
      "Index([40], dtype='int64')\n"
     ]
    }
   ],
   "source": [
    "pd.set_option('display.max_colwidth', 100)\n",
    "taxonomy_conversion_table = pd.read_csv(\"taxonomyLookupTablecopy.csv\", sep = ';')\n",
    "#taxonomy_conversion_table['oldTax'] = taxonomy_conversion_table['oldTax'].str.replace('Inferenti?le', 'Inferentiële')\n",
    "#taxonomy_conversion_table['oldTax'] = taxonomy_conversion_table['oldTax'].str.replace('inferenti?le', 'inferentiële')\n",
    "print(taxonomy_conversion_table[taxonomy_conversion_table['oldTax']=='exsection: Inferentiële statistiek,Anova,Twoway + interactie '].index)"
   ]
  },
  {
   "cell_type": "markdown",
   "metadata": {},
   "source": [
    "# Converteren Multiple choice vragen"
   ]
  },
  {
   "cell_type": "code",
   "execution_count": 34,
   "id": "8bd2f026",
   "metadata": {},
   "outputs": [],
   "source": [
    "def tax_converter_MC(path, table):\n",
    "    if path.endswith('_corrected.Rmd'):\n",
    "        return None\n",
    "\n",
    "    corrected_file = path.replace('.Rmd', '_corrected.Rmd')  # Define the corrected_file before using it\n",
    "    corrected_dir = os.path.dirname(corrected_file)\n",
    "    if not os.path.exists(corrected_dir):\n",
    "        os.makedirs(corrected_dir)\n",
    "       \n",
    "    not_found = set()\n",
    "    updated = False\n",
    "    already_updated = False\n",
    "    with open(path, 'r', encoding=detect_encoding(path)) as source_file, open(corrected_file, 'w', encoding= detect_encoding(path)) as corrected_file:\n",
    "        for line in source_file:\n",
    "            # Find the 'exsection:' line in the files\n",
    "            if line.startswith('exsection:'):\n",
    "                # Save the line and strip it from leading and trailing whitespace\n",
    "                to_convert_line = line.strip()\n",
    "                index_oldTax = table[table['oldTax'] == to_convert_line + ' '].index\n",
    "                if not index_oldTax.empty:\n",
    "                    new_line = table.loc[index_oldTax, 'newTax'].values[0]\n",
    "                    corrected_file.write(new_line + '\\n')\n",
    "                    updated = True\n",
    "                    continue\n",
    "                elif index_oldTax.empty:\n",
    "                    index_newTax = table[table['newTax'] == to_convert_line].index\n",
    "                    if not index_newTax.empty:\n",
    "                        corrected_file.write(line)\n",
    "                        already_updated = True\n",
    "                    else:\n",
    "                        # Line is not found in the table at all, don't do anything with it and save its location\n",
    "                        not_found.add(to_convert_line)\n",
    "            else:\n",
    "                corrected_file.write(line)\n",
    "    if updated:\n",
    "        return None\n",
    "        #return print((path + ' updated correctly'))\n",
    "    elif already_updated:\n",
    "        return None\n",
    "        #return print((path + ' already correctly updated'))\n",
    "    else:\n",
    "        print((path + ' not updated', not_found))\n",
    "#Loop door files    \n",
    "mc_directory_laptop = \"C:\\\\Users\\\\stenp\\\\Documents\\\\Werk_C\\\\StatistiekFabriekItemConversion\\\\MultipleChoice\\\\MultipleChoice_Items\"\n",
    "\n",
    "for root, _, files in os.walk(mc_directory_laptop):\n",
    "    for filename in files:\n",
    "        if filename.endswith('.Rmd'):\n",
    "            file_path = os.path.join(root, filename)  # Use os.path.join to construct the file path\n",
    "            \n",
    "            \n",
    "            tax_converter_MC(file_path, taxonomy_conversion_table)\n",
    "            \n",
    "        else:\n",
    "            continue\n"
   ]
  },
  {
   "cell_type": "markdown",
   "metadata": {},
   "source": [
    "# Converteren Open String vragen"
   ]
  },
  {
   "cell_type": "code",
   "execution_count": 6,
   "metadata": {},
   "outputs": [
    {
     "name": "stdout",
     "output_type": "stream",
     "text": [
      "C:\\Users\\stenp\\Documents\\Werk_C\\StatistiekFabriekItemConversion\\OpenString\\OpenString_Items\\Inferential Statistics\\uva-anova-f-test-807\\uva-anova-f-test-807-nl.Rmd already correctly updated\n",
      "C:\\Users\\stenp\\Documents\\Werk_C\\StatistiekFabriekItemConversion\\OpenString\\OpenString_Items\\Inferential Statistics\\uva-oneway-anova-806\\uva-oneway-anova-806-nl.Rmd already correctly updated\n",
      "C:\\Users\\stenp\\Documents\\Werk_C\\StatistiekFabriekItemConversion\\OpenString\\OpenString_Items\\Probability\\uva-addition-rule-654\\uva-addition-rule-654-nl.Rmd already correctly updated\n",
      "C:\\Users\\stenp\\Documents\\Werk_C\\StatistiekFabriekItemConversion\\OpenString\\OpenString_Items\\Probability\\uva-conditional-probability-687\\uva-conditional-probability-687-nl.Rmd already correctly updated\n",
      "C:\\Users\\stenp\\Documents\\Werk_C\\StatistiekFabriekItemConversion\\OpenString\\OpenString_Items\\Probability\\uva-conditional-probability-917\\uva-conditional-probability-917-nl.Rmd already correctly updated\n",
      "C:\\Users\\stenp\\Documents\\Werk_C\\StatistiekFabriekItemConversion\\OpenString\\OpenString_Items\\Probability\\uva-conditional-probability-918\\uva-conditional-probability-918-nl.Rmd already correctly updated\n",
      "C:\\Users\\stenp\\Documents\\Werk_C\\StatistiekFabriekItemConversion\\OpenString\\OpenString_Items\\Probability\\uva-elementary-probability-1007\\uva-elementary-probability-1007-nl.Rmd already correctly updated\n",
      "C:\\Users\\stenp\\Documents\\Werk_C\\StatistiekFabriekItemConversion\\OpenString\\OpenString_Items\\Probability\\uva-elementary-probability-1008\\uva-elementary-probability-1008-nl.Rmd already correctly updated\n",
      "C:\\Users\\stenp\\Documents\\Werk_C\\StatistiekFabriekItemConversion\\OpenString\\OpenString_Items\\Probability\\uva-elementary-probability-1010\\uva-elementary-probability-1010-nl.Rmd already correctly updated\n",
      "C:\\Users\\stenp\\Documents\\Werk_C\\StatistiekFabriekItemConversion\\OpenString\\OpenString_Items\\Probability\\uva-elementary-probability-1011\\uva-elementary-probability-1011-nl.Rmd already correctly updated\n",
      "C:\\Users\\stenp\\Documents\\Werk_C\\StatistiekFabriekItemConversion\\OpenString\\OpenString_Items\\Probability\\uva-elementary-probability-1012\\uva-elementary-probability-1012-nl.Rmd already correctly updated\n",
      "C:\\Users\\stenp\\Documents\\Werk_C\\StatistiekFabriekItemConversion\\OpenString\\OpenString_Items\\Probability\\uva-elementary-probability-1013\\uva-elementary-probability-1013-nl.Rmd already correctly updated\n",
      "C:\\Users\\stenp\\Documents\\Werk_C\\StatistiekFabriekItemConversion\\OpenString\\OpenString_Items\\Probability\\uva-elementary-probability-1014\\uva-elementary-probability-1014-nl.Rmd already correctly updated\n",
      "C:\\Users\\stenp\\Documents\\Werk_C\\StatistiekFabriekItemConversion\\OpenString\\OpenString_Items\\Probability\\uva-elementary-probability-1049\\uva-elementary-probability-1049-nl.Rmd already correctly updated\n",
      "C:\\Users\\stenp\\Documents\\Werk_C\\StatistiekFabriekItemConversion\\OpenString\\OpenString_Items\\Probability\\uva-elementary-probability-1051\\uva-elementary-probability-1051-nl.Rmd already correctly updated\n",
      "C:\\Users\\stenp\\Documents\\Werk_C\\StatistiekFabriekItemConversion\\OpenString\\OpenString_Items\\Probability\\uva-elementary-probability-667\\uva-elementary-probability-667-nl.Rmd already correctly updated\n",
      "C:\\Users\\stenp\\Documents\\Werk_C\\StatistiekFabriekItemConversion\\OpenString\\OpenString_Items\\Probability\\uva-elementary-probability-668\\uva-elementary-probability-668-nl.Rmd already correctly updated\n",
      "C:\\Users\\stenp\\Documents\\Werk_C\\StatistiekFabriekItemConversion\\OpenString\\OpenString_Items\\Probability\\uva-elementary-probability-946\\uva-elementary-probability-946-nl.Rmd already correctly updated\n",
      "C:\\Users\\stenp\\Documents\\Werk_C\\StatistiekFabriekItemConversion\\OpenString\\OpenString_Items\\Probability\\uva-elementary-probability-947\\uva-elementary-probability-947-nl.Rmd already correctly updated\n",
      "C:\\Users\\stenp\\Documents\\Werk_C\\StatistiekFabriekItemConversion\\OpenString\\OpenString_Items\\Probability\\uva-elementary-probability-949\\uva-elementary-probability-949-nl.Rmd already correctly updated\n",
      "C:\\Users\\stenp\\Documents\\Werk_C\\StatistiekFabriekItemConversion\\OpenString\\OpenString_Items\\Probability\\uva-elementary-probability-951\\uva-elementary-probability-951-nl.Rmd already correctly updated\n",
      "C:\\Users\\stenp\\Documents\\Werk_C\\StatistiekFabriekItemConversion\\OpenString\\OpenString_Items\\Probability\\uva-elementary-probability-952\\uva-elementary-probability-952-nl.Rmd already correctly updated\n",
      "C:\\Users\\stenp\\Documents\\Werk_C\\StatistiekFabriekItemConversion\\OpenString\\OpenString_Items\\Probability\\uva-expected-value-648\\uva-expected-value-648-nl.Rmd already correctly updated\n",
      "C:\\Users\\stenp\\Documents\\Werk_C\\StatistiekFabriekItemConversion\\OpenString\\OpenString_Items\\Probability\\uva-expected-value-652\\uva-expected-value-652-nl.Rmd already correctly updated\n",
      "C:\\Users\\stenp\\Documents\\Werk_C\\StatistiekFabriekItemConversion\\OpenString\\OpenString_Items\\Probability\\uva-expected-value-653\\uva-expected-value-653-nl.Rmd already correctly updated\n",
      "C:\\Users\\stenp\\Documents\\Werk_C\\StatistiekFabriekItemConversion\\OpenString\\OpenString_Items\\Probability\\uva-expected-value-658\\uva-expected-value-658-nl.Rmd already correctly updated\n",
      "C:\\Users\\stenp\\Documents\\Werk_C\\StatistiekFabriekItemConversion\\OpenString\\OpenString_Items\\Probability\\uva-expected-value-665\\uva-expected-value-665-nl.Rmd already correctly updated\n",
      "C:\\Users\\stenp\\Documents\\Werk_C\\StatistiekFabriekItemConversion\\OpenString\\OpenString_Items\\Probability\\uva-expected-value-666\\uva-expected-value-666-nl.Rmd already correctly updated\n",
      "C:\\Users\\stenp\\Documents\\Werk_C\\StatistiekFabriekItemConversion\\OpenString\\OpenString_Items\\Probability\\uva-expected-value-763\\uva-expected-value-763-nl.Rmd already correctly updated\n",
      "C:\\Users\\stenp\\Documents\\Werk_C\\StatistiekFabriekItemConversion\\OpenString\\OpenString_Items\\Probability\\uva-general-rules-1009\\uva-general-rules-1009-nl.Rmd already correctly updated\n",
      "C:\\Users\\stenp\\Documents\\Werk_C\\StatistiekFabriekItemConversion\\OpenString\\OpenString_Items\\Probability\\uva-general-rules-646\\uva-general-rules-646-nl.Rmd already correctly updated\n",
      "C:\\Users\\stenp\\Documents\\Werk_C\\StatistiekFabriekItemConversion\\OpenString\\OpenString_Items\\Probability\\uva-general-rules-656\\uva-general-rules-656-nl.Rmd already correctly updated\n",
      "C:\\Users\\stenp\\Documents\\Werk_C\\StatistiekFabriekItemConversion\\OpenString\\OpenString_Items\\Probability\\uva-general-rules-677\\uva-general-rules-677-nl.Rmd already correctly updated\n",
      "C:\\Users\\stenp\\Documents\\Werk_C\\StatistiekFabriekItemConversion\\OpenString\\OpenString_Items\\Probability\\uva-general-rules-686\\uva-general-rules-686-nl.Rmd already correctly updated\n",
      "C:\\Users\\stenp\\Documents\\Werk_C\\StatistiekFabriekItemConversion\\OpenString\\OpenString_Items\\Probability\\uva-general-rules-765\\uva-general-rules-765-nl.Rmd already correctly updated\n",
      "C:\\Users\\stenp\\Documents\\Werk_C\\StatistiekFabriekItemConversion\\OpenString\\OpenString_Items\\Probability\\uva-multiplication-rule-651\\uva-multiplication-rule-651-nl.Rmd already correctly updated\n",
      "C:\\Users\\stenp\\Documents\\Werk_C\\StatistiekFabriekItemConversion\\OpenString\\OpenString_Items\\Probability\\uva-multiplication-rule-657\\uva-multiplication-rule-657-nl.Rmd already correctly updated\n",
      "C:\\Users\\stenp\\Documents\\Werk_C\\StatistiekFabriekItemConversion\\OpenString\\OpenString_Items\\Probability\\uva-multiplication-rule-669\\uva-multiplication-rule-669-nl.Rmd already correctly updated\n",
      "C:\\Users\\stenp\\Documents\\Werk_C\\StatistiekFabriekItemConversion\\OpenString\\OpenString_Items\\Probability\\uva-multiplication-rule-670\\uva-multiplication-rule-670-nl.Rmd already correctly updated\n",
      "C:\\Users\\stenp\\Documents\\Werk_C\\StatistiekFabriekItemConversion\\OpenString\\OpenString_Items\\Probability\\uva-rules-for-expected-values-655\\uva-rules-for-expected-values-655-nl.Rmd already correctly updated\n",
      "C:\\Users\\stenp\\Documents\\Werk_C\\StatistiekFabriekItemConversion\\OpenString\\OpenString_Items\\Probability\\uva-union-688\\uva-union-688-nl.Rmd already correctly updated\n"
     ]
    }
   ],
   "source": [
    "def tax_converter_OS(path, table):\n",
    "    if path.endswith('_corrected.Rmd'):\n",
    "        return None\n",
    "\n",
    "    corrected_file = path.replace('.Rmd', '_corrected.Rmd')  # Define the corrected_file before using it\n",
    "    corrected_dir = os.path.dirname(corrected_file)\n",
    "    if not os.path.exists(corrected_dir):\n",
    "        os.makedirs(corrected_dir)\n",
    "       \n",
    "    not_found = set()\n",
    "    updated = False\n",
    "    already_updated = False\n",
    "    #encodingvar = detect_encoding(path)\n",
    "    with open(path, 'r', encoding= detect_encoding(path)) as source_file, open(corrected_file, 'w', encoding= detect_encoding(path)) as corrected_file:\n",
    "        for line in source_file:\n",
    "            # Find the 'exsection:' line in the files\n",
    "            if line.startswith('exsection:'):\n",
    "                # Save the line and strip it from leading and trailing whitespace\n",
    "                to_convert_line = line.strip()\n",
    "                index_oldTax = table[table['oldTax'] == to_convert_line + ' '].index\n",
    "                if not index_oldTax.empty:\n",
    "                    new_line = table.loc[index_oldTax, 'newTax'].values[0]\n",
    "                    corrected_file.write(new_line + '\\n')\n",
    "                    updated = True\n",
    "                    continue\n",
    "                elif index_oldTax.empty:\n",
    "                    index_newTax = table[table['newTax'] == to_convert_line].index\n",
    "                    if not index_newTax.empty:\n",
    "                        corrected_file.write(line)\n",
    "                        already_updated = True\n",
    "                    else:\n",
    "                        # Line is not found in the table at all, don't do anything with it and save its location\n",
    "                        not_found.add(to_convert_line)\n",
    "            else:\n",
    "                corrected_file.write(line)\n",
    "    if updated:\n",
    "        #return None\n",
    "        return print((path + ' updated correctly'))\n",
    "    elif already_updated:\n",
    "        #return None\n",
    "        return print((path + ' already correctly updated'))\n",
    "    else:\n",
    "        print((path + ' not updated', not_found))\n",
    "\n",
    "#Loop door files    \n",
    "OS_directory_laptop = \"C:\\\\Users\\\\stenp\\\\Documents\\\\Werk_C\\\\StatistiekFabriekItemConversion\\\\OpenString\\\\OpenString_Items\"\n",
    "\n",
    "for root, _, files in os.walk(OS_directory_laptop):\n",
    "    for filename in files:\n",
    "        if filename.endswith('.Rmd'):\n",
    "            file_path = os.path.join(root, filename)  # Use os.path.join to construct the file path\n",
    "            \n",
    "            \n",
    "            tax_converter_OS(file_path, taxonomy_conversion_table)\n",
    "            \n",
    "        else:\n",
    "            continue"
   ]
  },
  {
   "cell_type": "markdown",
   "metadata": {},
   "source": [
    "# Vragen vinden met afbeelding"
   ]
  },
  {
   "cell_type": "code",
   "execution_count": 6,
   "metadata": {},
   "outputs": [
    {
     "name": "stdout",
     "output_type": "stream",
     "text": [
      "C:\\Users\\stenp\\Documents\\Werk_C\\StatistiekFabriekItemConversion\\MultipleChoice\\MultipleChoice_Items\\Descriptive statistics\\uva-descriptive statistics-124-nl.Rmd\\uva-descriptive statistics-124-nl.Rmd\n",
      "C:\\Users\\stenp\\Documents\\Werk_C\\StatistiekFabriekItemConversion\\MultipleChoice\\MultipleChoice_Items\\Descriptive statistics\\uva-descriptive statistics-287-nl.Rmd\\uva-descriptive statistics-287-nl.Rmd\n",
      "C:\\Users\\stenp\\Documents\\Werk_C\\StatistiekFabriekItemConversion\\MultipleChoice\\MultipleChoice_Items\\Descriptive statistics\\uva-descriptive statistics-288-nl.Rmd\\uva-descriptive statistics-288-nl.Rmd\n",
      "C:\\Users\\stenp\\Documents\\Werk_C\\StatistiekFabriekItemConversion\\MultipleChoice\\MultipleChoice_Items\\Descriptive statistics\\uva-descriptive statistics-293-nl.Rmd\\uva-descriptive statistics-293-nl.Rmd\n",
      "C:\\Users\\stenp\\Documents\\Werk_C\\StatistiekFabriekItemConversion\\MultipleChoice\\MultipleChoice_Items\\Descriptive statistics\\uva-descriptive statistics-294-nl.Rmd\\uva-descriptive statistics-294-nl.Rmd\n",
      "C:\\Users\\stenp\\Documents\\Werk_C\\StatistiekFabriekItemConversion\\MultipleChoice\\MultipleChoice_Items\\Descriptive statistics\\uva-descriptive statistics-295-nl.Rmd\\uva-descriptive statistics-295-nl.Rmd\n",
      "C:\\Users\\stenp\\Documents\\Werk_C\\StatistiekFabriekItemConversion\\MultipleChoice\\MultipleChoice_Items\\Descriptive statistics\\uva-descriptive statistics-319-nl.Rmd\\uva-descriptive statistics-319-nl.Rmd\n",
      "C:\\Users\\stenp\\Documents\\Werk_C\\StatistiekFabriekItemConversion\\MultipleChoice\\MultipleChoice_Items\\Descriptive statistics\\uva-descriptive statistics-328-nl.Rmd\\uva-descriptive statistics-328-nl.Rmd\n",
      "C:\\Users\\stenp\\Documents\\Werk_C\\StatistiekFabriekItemConversion\\MultipleChoice\\MultipleChoice_Items\\Descriptive statistics\\uva-descriptive statistics-333-nl.Rmd\\uva-descriptive statistics-333-nl.Rmd\n",
      "C:\\Users\\stenp\\Documents\\Werk_C\\StatistiekFabriekItemConversion\\MultipleChoice\\MultipleChoice_Items\\Descriptive statistics\\uva-descriptive statistics-334-nl.Rmd\\uva-descriptive statistics-334-nl.Rmd\n",
      "C:\\Users\\stenp\\Documents\\Werk_C\\StatistiekFabriekItemConversion\\MultipleChoice\\MultipleChoice_Items\\Descriptive statistics\\uva-descriptive statistics-343-nl.Rmd\\uva-descriptive statistics-343-nl.Rmd\n",
      "C:\\Users\\stenp\\Documents\\Werk_C\\StatistiekFabriekItemConversion\\MultipleChoice\\MultipleChoice_Items\\Descriptive statistics\\uva-descriptive statistics-351-nl.Rmd\\uva-descriptive statistics-351-nl.Rmd\n",
      "C:\\Users\\stenp\\Documents\\Werk_C\\StatistiekFabriekItemConversion\\MultipleChoice\\MultipleChoice_Items\\Descriptive statistics\\uva-descriptive statistics-390-nl.Rmd\\uva-descriptive statistics-390-nl.Rmd\n",
      "C:\\Users\\stenp\\Documents\\Werk_C\\StatistiekFabriekItemConversion\\MultipleChoice\\MultipleChoice_Items\\Descriptive statistics\\uva-descriptive statistics-409-nl.Rmd\\uva-descriptive statistics-409-nl.Rmd\n",
      "C:\\Users\\stenp\\Documents\\Werk_C\\StatistiekFabriekItemConversion\\MultipleChoice\\MultipleChoice_Items\\Descriptive statistics\\uva-descriptive statistics-472-nl.Rmd\\uva-descriptive statistics-472-nl.Rmd\n",
      "C:\\Users\\stenp\\Documents\\Werk_C\\StatistiekFabriekItemConversion\\MultipleChoice\\MultipleChoice_Items\\Descriptive statistics\\uva-descriptive statistics-507-nl.Rmd\\uva-descriptive statistics-507-nl.Rmd\n",
      "C:\\Users\\stenp\\Documents\\Werk_C\\StatistiekFabriekItemConversion\\MultipleChoice\\MultipleChoice_Items\\Descriptive statistics\\uva-descriptive statistics-579-nl.Rmd\\uva-descriptive statistics-579-nl.Rmd\n",
      "C:\\Users\\stenp\\Documents\\Werk_C\\StatistiekFabriekItemConversion\\MultipleChoice\\MultipleChoice_Items\\Descriptive statistics\\uva-descriptive statistics-641-nl.Rmd\\uva-descriptive statistics-641-nl.Rmd\n",
      "C:\\Users\\stenp\\Documents\\Werk_C\\StatistiekFabriekItemConversion\\MultipleChoice\\MultipleChoice_Items\\Descriptive statistics\\uva-descriptive statistics-642-nl.Rmd\\uva-descriptive statistics-642-nl.Rmd\n",
      "C:\\Users\\stenp\\Documents\\Werk_C\\StatistiekFabriekItemConversion\\MultipleChoice\\MultipleChoice_Items\\Descriptive statistics\\uva-descriptive statistics-91-nl.Rmd\\uva-descriptive statistics-91-nl.Rmd\n",
      "C:\\Users\\stenp\\Documents\\Werk_C\\StatistiekFabriekItemConversion\\MultipleChoice\\MultipleChoice_Items\\Inferential statistics\\Inferentiële statistiek\\checked\\uva-inferential statistics-40-nl.Rmd\\uva-inferential statistics-40-nl.Rmd\n",
      "C:\\Users\\stenp\\Documents\\Werk_C\\StatistiekFabriekItemConversion\\MultipleChoice\\MultipleChoice_Items\\Inferential statistics\\Inferentiële statistiek\\checked\\uva-inferential statistics-43-nl.Rmd\\uva-inferential statistics-43-nl.Rmd\n",
      "C:\\Users\\stenp\\Documents\\Werk_C\\StatistiekFabriekItemConversion\\MultipleChoice\\MultipleChoice_Items\\Inferential statistics\\uva-inferential statistics-107-nl.Rmd\\uva-inferential statistics-107-nl.Rmd\n",
      "C:\\Users\\stenp\\Documents\\Werk_C\\StatistiekFabriekItemConversion\\MultipleChoice\\MultipleChoice_Items\\Inferential statistics\\uva-inferential statistics-269-nl.Rmd\\uva-inferential statistics-269-nl.Rmd\n",
      "C:\\Users\\stenp\\Documents\\Werk_C\\StatistiekFabriekItemConversion\\MultipleChoice\\MultipleChoice_Items\\Inferential statistics\\uva-inferential statistics-270-nl.Rmd\\uva-inferential statistics-270-nl.Rmd\n",
      "C:\\Users\\stenp\\Documents\\Werk_C\\StatistiekFabriekItemConversion\\MultipleChoice\\MultipleChoice_Items\\Inferential statistics\\uva-inferential statistics-271-nl.Rmd\\uva-inferential statistics-271-nl.Rmd\n",
      "C:\\Users\\stenp\\Documents\\Werk_C\\StatistiekFabriekItemConversion\\MultipleChoice\\MultipleChoice_Items\\Inferential statistics\\uva-inferential statistics-278-nl.Rmd\\uva-inferential statistics-278-nl.Rmd\n",
      "C:\\Users\\stenp\\Documents\\Werk_C\\StatistiekFabriekItemConversion\\MultipleChoice\\MultipleChoice_Items\\Inferential statistics\\uva-inferential statistics-279-nl.Rmd\\uva-inferential statistics-279-nl.Rmd\n",
      "C:\\Users\\stenp\\Documents\\Werk_C\\StatistiekFabriekItemConversion\\MultipleChoice\\MultipleChoice_Items\\Inferential statistics\\uva-inferential statistics-280-nl.Rmd\\uva-inferential statistics-280-nl.Rmd\n",
      "C:\\Users\\stenp\\Documents\\Werk_C\\StatistiekFabriekItemConversion\\MultipleChoice\\MultipleChoice_Items\\Inferential statistics\\uva-inferential statistics-289-nl.Rmd\\uva-inferential statistics-289-nl.Rmd\n",
      "C:\\Users\\stenp\\Documents\\Werk_C\\StatistiekFabriekItemConversion\\MultipleChoice\\MultipleChoice_Items\\Inferential statistics\\uva-inferential statistics-290-nl.Rmd\\uva-inferential statistics-290-nl.Rmd\n",
      "C:\\Users\\stenp\\Documents\\Werk_C\\StatistiekFabriekItemConversion\\MultipleChoice\\MultipleChoice_Items\\Inferential statistics\\uva-inferential statistics-311-nl.Rmd\\uva-inferential statistics-311-nl.Rmd\n",
      "C:\\Users\\stenp\\Documents\\Werk_C\\StatistiekFabriekItemConversion\\MultipleChoice\\MultipleChoice_Items\\Inferential statistics\\uva-inferential statistics-312-nl.Rmd\\uva-inferential statistics-312-nl.Rmd\n",
      "C:\\Users\\stenp\\Documents\\Werk_C\\StatistiekFabriekItemConversion\\MultipleChoice\\MultipleChoice_Items\\Inferential statistics\\uva-inferential statistics-317-nl.Rmd\\uva-inferential statistics-317-nl.Rmd\n",
      "C:\\Users\\stenp\\Documents\\Werk_C\\StatistiekFabriekItemConversion\\MultipleChoice\\MultipleChoice_Items\\Inferential statistics\\uva-inferential statistics-318-nl.Rmd\\uva-inferential statistics-318-nl.Rmd\n",
      "C:\\Users\\stenp\\Documents\\Werk_C\\StatistiekFabriekItemConversion\\MultipleChoice\\MultipleChoice_Items\\Inferential statistics\\uva-inferential statistics-320-nl.Rmd\\uva-inferential statistics-320-nl.Rmd\n",
      "C:\\Users\\stenp\\Documents\\Werk_C\\StatistiekFabriekItemConversion\\MultipleChoice\\MultipleChoice_Items\\Inferential statistics\\uva-inferential statistics-321-nl.Rmd\\uva-inferential statistics-321-nl.Rmd\n",
      "C:\\Users\\stenp\\Documents\\Werk_C\\StatistiekFabriekItemConversion\\MultipleChoice\\MultipleChoice_Items\\Inferential statistics\\uva-inferential statistics-322-nl.Rmd\\uva-inferential statistics-322-nl.Rmd\n",
      "C:\\Users\\stenp\\Documents\\Werk_C\\StatistiekFabriekItemConversion\\MultipleChoice\\MultipleChoice_Items\\Inferential statistics\\uva-inferential statistics-329-nl.Rmd\\uva-inferential statistics-329-nl.Rmd\n",
      "C:\\Users\\stenp\\Documents\\Werk_C\\StatistiekFabriekItemConversion\\MultipleChoice\\MultipleChoice_Items\\Inferential statistics\\uva-inferential statistics-331-nl.Rmd\\uva-inferential statistics-331-nl.Rmd\n",
      "C:\\Users\\stenp\\Documents\\Werk_C\\StatistiekFabriekItemConversion\\MultipleChoice\\MultipleChoice_Items\\Inferential statistics\\uva-inferential statistics-332-nl.Rmd\\uva-inferential statistics-332-nl.Rmd\n",
      "C:\\Users\\stenp\\Documents\\Werk_C\\StatistiekFabriekItemConversion\\MultipleChoice\\MultipleChoice_Items\\Inferential statistics\\uva-inferential statistics-350-nl.Rmd\\uva-inferential statistics-350-nl.Rmd\n",
      "C:\\Users\\stenp\\Documents\\Werk_C\\StatistiekFabriekItemConversion\\MultipleChoice\\MultipleChoice_Items\\Inferential statistics\\uva-inferential statistics-354-nl.Rmd\\uva-inferential statistics-354-nl.Rmd\n",
      "C:\\Users\\stenp\\Documents\\Werk_C\\StatistiekFabriekItemConversion\\MultipleChoice\\MultipleChoice_Items\\Inferential statistics\\uva-inferential statistics-355-nl.Rmd\\uva-inferential statistics-355-nl.Rmd\n",
      "C:\\Users\\stenp\\Documents\\Werk_C\\StatistiekFabriekItemConversion\\MultipleChoice\\MultipleChoice_Items\\Inferential statistics\\uva-inferential statistics-360-nl.Rmd\\uva-inferential statistics-360-nl.Rmd\n",
      "C:\\Users\\stenp\\Documents\\Werk_C\\StatistiekFabriekItemConversion\\MultipleChoice\\MultipleChoice_Items\\Inferential statistics\\uva-inferential statistics-361-nl.Rmd\\uva-inferential statistics-361-nl.Rmd\n",
      "C:\\Users\\stenp\\Documents\\Werk_C\\StatistiekFabriekItemConversion\\MultipleChoice\\MultipleChoice_Items\\Inferential statistics\\uva-inferential statistics-389-nl.Rmd\\uva-inferential statistics-389-nl.Rmd\n",
      "C:\\Users\\stenp\\Documents\\Werk_C\\StatistiekFabriekItemConversion\\MultipleChoice\\MultipleChoice_Items\\Inferential statistics\\uva-inferential statistics-391-nl.Rmd\\uva-inferential statistics-391-nl.Rmd\n",
      "C:\\Users\\stenp\\Documents\\Werk_C\\StatistiekFabriekItemConversion\\MultipleChoice\\MultipleChoice_Items\\Inferential statistics\\uva-inferential statistics-399-nl.Rmd\\uva-inferential statistics-399-nl.Rmd\n",
      "C:\\Users\\stenp\\Documents\\Werk_C\\StatistiekFabriekItemConversion\\MultipleChoice\\MultipleChoice_Items\\Inferential statistics\\uva-inferential statistics-400-nl.Rmd\\uva-inferential statistics-400-nl.Rmd\n",
      "C:\\Users\\stenp\\Documents\\Werk_C\\StatistiekFabriekItemConversion\\MultipleChoice\\MultipleChoice_Items\\Inferential statistics\\uva-inferential statistics-401-nl.Rmd\\uva-inferential statistics-401-nl.Rmd\n",
      "C:\\Users\\stenp\\Documents\\Werk_C\\StatistiekFabriekItemConversion\\MultipleChoice\\MultipleChoice_Items\\Inferential statistics\\uva-inferential statistics-410-nl.Rmd\\uva-inferential statistics-410-nl.Rmd\n",
      "C:\\Users\\stenp\\Documents\\Werk_C\\StatistiekFabriekItemConversion\\MultipleChoice\\MultipleChoice_Items\\Inferential statistics\\uva-inferential statistics-411-nl.Rmd\\uva-inferential statistics-411-nl.Rmd\n",
      "C:\\Users\\stenp\\Documents\\Werk_C\\StatistiekFabriekItemConversion\\MultipleChoice\\MultipleChoice_Items\\Inferential statistics\\uva-inferential statistics-486-nl.Rmd\\uva-inferential statistics-486-nl.Rmd\n",
      "C:\\Users\\stenp\\Documents\\Werk_C\\StatistiekFabriekItemConversion\\MultipleChoice\\MultipleChoice_Items\\Inferential statistics\\uva-inferential statistics-487-nl.Rmd\\uva-inferential statistics-487-nl.Rmd\n",
      "C:\\Users\\stenp\\Documents\\Werk_C\\StatistiekFabriekItemConversion\\MultipleChoice\\MultipleChoice_Items\\Inferential statistics\\uva-inferential statistics-493-nl.Rmd\\uva-inferential statistics-493-nl.Rmd\n",
      "C:\\Users\\stenp\\Documents\\Werk_C\\StatistiekFabriekItemConversion\\MultipleChoice\\MultipleChoice_Items\\Inferential statistics\\uva-inferential statistics-494-nl.Rmd\\uva-inferential statistics-494-nl.Rmd\n",
      "C:\\Users\\stenp\\Documents\\Werk_C\\StatistiekFabriekItemConversion\\MultipleChoice\\MultipleChoice_Items\\Inferential statistics\\uva-inferential statistics-504-nl.Rmd\\uva-inferential statistics-504-nl.Rmd\n",
      "C:\\Users\\stenp\\Documents\\Werk_C\\StatistiekFabriekItemConversion\\MultipleChoice\\MultipleChoice_Items\\Inferential statistics\\uva-inferential statistics-505-nl.Rmd\\uva-inferential statistics-505-nl.Rmd\n",
      "C:\\Users\\stenp\\Documents\\Werk_C\\StatistiekFabriekItemConversion\\MultipleChoice\\MultipleChoice_Items\\Inferential statistics\\uva-inferential statistics-506-nl.Rmd\\uva-inferential statistics-506-nl.Rmd\n",
      "C:\\Users\\stenp\\Documents\\Werk_C\\StatistiekFabriekItemConversion\\MultipleChoice\\MultipleChoice_Items\\Inferential statistics\\uva-inferential statistics-508-nl.Rmd\\uva-inferential statistics-508-nl.Rmd\n",
      "C:\\Users\\stenp\\Documents\\Werk_C\\StatistiekFabriekItemConversion\\MultipleChoice\\MultipleChoice_Items\\Inferential statistics\\uva-inferential statistics-77-nl.Rmd\\uva-inferential statistics-77-nl.Rmd\n",
      "C:\\Users\\stenp\\Documents\\Werk_C\\StatistiekFabriekItemConversion\\MultipleChoice\\MultipleChoice_Items\\Inferential statistics\\uva-inferential statistics-94-nl.Rmd\\uva-inferential statistics-94-nl.Rmd\n",
      "C:\\Users\\stenp\\Documents\\Werk_C\\StatistiekFabriekItemConversion\\MultipleChoice\\MultipleChoice_Items\\Inferential statistics\\uva-inferential statistics-98-nl.Rmd\\uva-inferential statistics-98-nl.Rmd\n",
      "C:\\Users\\stenp\\Documents\\Werk_C\\StatistiekFabriekItemConversion\\MultipleChoice\\MultipleChoice_Items\\Probability\\uva-probability-647-nl.Rmd\\uva-probability-647-nl.Rmd\n",
      "C:\\Users\\stenp\\Documents\\Werk_C\\StatistiekFabriekItemConversion\\MultipleChoice\\MultipleChoice_Items\\Probability\\uva-probability-662-nl.Rmd\\uva-probability-662-nl.Rmd\n"
     ]
    }
   ],
   "source": [
    "def image_qeustion(path):\n",
    "    if path.endswith('_corrected.Rmd'):\n",
    "        return None\n",
    "    with open(path, 'r', encoding= detect_encoding(path)) as x:\n",
    "        for line in x:\n",
    "            if '.png' in line:\n",
    "                return print(path)\n",
    "            else:\n",
    "                continue\n",
    "\n",
    "mc_directory_laptop = \"C:\\\\Users\\\\stenp\\\\Documents\\\\Werk_C\\\\StatistiekFabriekItemConversion\\\\MultipleChoice\\\\MultipleChoice_Items\"\n",
    "OS_directory_laptop = \"C:\\\\Users\\\\stenp\\\\Documents\\\\Werk_C\\\\StatistiekFabriekItemConversion\\\\OpenString\\\\OpenString_Items\"\n",
    "for root, _, files in os.walk(mc_directory_laptop):\n",
    "    for filename in files:\n",
    "        if filename.endswith('.Rmd'):\n",
    "            file_path = os.path.join(root, filename)  # Use os.path.join to construct the file path\n",
    "            \n",
    "            \n",
    "            image_qeustion(file_path)\n",
    "            "
   ]
  },
  {
   "cell_type": "markdown",
   "id": "cb5a2ea1",
   "metadata": {},
   "source": [
    "# Vragen met vraagteken midden in woord"
   ]
  },
  {
   "cell_type": "code",
   "execution_count": null,
   "id": "0d047d0b",
   "metadata": {},
   "outputs": [],
   "source": [
    "def image_qeustion(path):\n",
    "    if path.endswith('_corrected.Rmd'):\n",
    "        return None\n",
    "    with open(path, 'r', encoding= detect_encoding(path)) as x:\n",
    "        for line in x:\n",
    "            if '.png' in line:\n",
    "                return print(path)\n",
    "            else:\n",
    "                continue\n",
    "\n",
    "mc_directory_laptop = \"C:\\\\Users\\\\stenp\\\\Documents\\\\Werk_C\\\\StatistiekFabriekItemConversion\\\\MultipleChoice\\\\MultipleChoice_Items\"\n",
    "OS_directory_laptop = \"C:\\\\Users\\\\stenp\\\\Documents\\\\Werk_C\\\\StatistiekFabriekItemConversion\\\\OpenString\\\\OpenString_Items\"\n",
    "for root, _, files in os.walk(mc_directory_laptop):\n",
    "    for filename in files:\n",
    "        if filename.endswith('.Rmd'):\n",
    "            file_path = os.path.join(root, filename)  # Use os.path.join to construct the file path\n",
    "            \n",
    "            \n",
    "            image_qeustion(file_path)"
   ]
  },
  {
   "cell_type": "markdown",
   "metadata": {},
   "source": [
    "# vragen zonder exsection uberhaupt"
   ]
  },
  {
   "cell_type": "code",
   "execution_count": 8,
   "metadata": {},
   "outputs": [],
   "source": [
    "def find_files_without_exsection(path):\n",
    "    if path.endswith('_corrected.Rmd'):\n",
    "        return None\n",
    "    \n",
    "    with open(path, 'r', encoding=detect_encoding(path)) as file:\n",
    "        has_exsection = any('exsection:' in line for line in file)\n",
    "    \n",
    "    if not has_exsection:\n",
    "        print(path)\n",
    "\n",
    "mc_directory_laptop = \"C:\\\\Users\\\\stenp\\\\Documents\\\\Werk_C\\\\StatistiekFabriekItemConversion\\\\MultipleChoice\\\\MultipleChoice_Items\"\n",
    "OS_directory_laptop = \"C:\\\\Users\\\\stenp\\\\Documents\\\\Werk_C\\\\StatistiekFabriekItemConversion\\\\OpenString\\\\OpenString_Items\"\n",
    "for root, _, files in os.walk(OS_directory_laptop):\n",
    "    for filename in files:\n",
    "        if filename.endswith('.Rmd'):\n",
    "            file_path = os.path.join(root, filename)  # Use os.path.join to construct the file path\n",
    "            \n",
    "            \n",
    "            find_files_without_exsection(file_path)"
   ]
  },
  {
   "cell_type": "markdown",
   "metadata": {},
   "source": [
    "# vragen met ENTER MANUALLY"
   ]
  },
  {
   "cell_type": "code",
   "execution_count": 129,
   "metadata": {},
   "outputs": [
    {
     "name": "stdout",
     "output_type": "stream",
     "text": [
      "C:\\Users\\stenp\\Documents\\Werk_C\\StatistiekFabriekItemConversion\\MultipleChoice\\MultipleChoice_Items\\Probability\\uva-probability-150-nl.Rmd\\uva-probability-150-nl.Rmd\n"
     ]
    }
   ],
   "source": [
    "def image_qeustion(path):\n",
    "    if path.endswith('_corrected.Rmd'):\n",
    "        return None\n",
    "    with open(path, 'r', encoding= detect_encoding(path)) as x:\n",
    "        for line in x:\n",
    "            if 'ENTER MANUALLY' in line:\n",
    "                return print(path)\n",
    "            else:\n",
    "                continue\n",
    "\n",
    "mc_directory_laptop = \"C:\\\\Users\\\\stenp\\\\Documents\\\\Werk_C\\\\StatistiekFabriekItemConversion\\\\MultipleChoice\\\\MultipleChoice_Items\"\n",
    "OS_directory_laptop = \"C:\\\\Users\\\\stenp\\\\Documents\\\\Werk_C\\\\StatistiekFabriekItemConversion\\\\OpenString\\\\OpenString_Items\"\n",
    "for root, _, files in os.walk(mc_directory_laptop):\n",
    "    for filename in files:\n",
    "        if filename.endswith('.Rmd'):\n",
    "            file_path = os.path.join(root, filename)  # Use os.path.join to construct the file path\n",
    "            \n",
    "            \n",
    "            image_qeustion(file_path)"
   ]
  },
  {
   "cell_type": "markdown",
   "id": "f2be17ad",
   "metadata": {},
   "source": [
    "# Notitites\n",
    "je vindt ze niet doordat er in de oldTax een ' ' (spatie volgt) <br>"
   ]
  },
  {
   "cell_type": "markdown",
   "id": "09f2161d",
   "metadata": {},
   "source": [
    "## Niet gevonden in conversietabel \n",
    "### Te verbeteren in csv file Multiple Choice\n",
    "<b> Al verbeterd </b><br>\n",
    "'exsection: Kansrekening,Kansrekening (ond.),Productregel' <b>verbeterd</b><br>\n",
    "'exsection: Kansrekening,Kansrekening (ond.),Somregel' <b>verbeterd</b><br>\n",
    "'exsection: Kansrekening,Kansdefinities,Kansverdeling,Normale verdeling,Onafhankelijkheid van twee of meer gebeurtenissen' <b>verbeterd</b><br>\n",
    "'exsection: Kansrekening,Kansverdeling,Voorwaardelijke kansen' <b>verbeterd</b><br>\n",
    "'exsection: Distributions/Discrete/Binomial'<b>verbeterd</b><br>\n",
    "\n",
    "\n",
    "<b>Suggesties</b><br>\n",
    "'exsection: Kansrekening,Kansverdeling,Uniforme verdeling' --> Distributions/Continuous/Uniform<br> \n",
    "'exsection: Kansrekening,Kansverdeling,Binomiale verdeling'--> Distributions/Discrete/Binomial <br> \n",
    "\n",
    "<b> Nog handmatig te doen </b><br>\n",
    "'exsection: Kansrekening,Kansdefinities,Gebeurtenis'<br>\n",
    "'exsection: Kansrekening,Kansrekening (ond.),Kansverdeling,Kansverdeling steekproefgemiddelde (onafhankelijke,Continue stochastische variabelen'<br>\n",
    "'exsection: Kansrekening,Kansdefinities,Kansrekening (ond.),Somregel,Onafhankelijkheid van twee of meer gebeurtenissen'<br>\n",
    "None<br>\n",
    "'exsection: Kansrekening,Kansrekening (ond.),Optelregel voor kans op vereniging van twee gebeur'<br>\n",
    "'exsection: Kansrekening,Kansrekening (ond.),Kansverdeling,Normale verdeling,Productregel'<br> \n",
    "'exsection: Kansrekening,Kansdefinities,Klassieke kansdefinitie,Gebeurtenis'<br>\n",
    "'exsection: Kansrekening,Kansrekening (ond.),Kansverdeling,Kansverdeling steekproefgemiddelde (onafhankelijke,Discrete stochastische variabelen (elementair begr'<br> \n",
    "'exsection: Kansrekening,Kansdefinities,Kansverdeling,Voorwaardelijke kansen,Onafhankelijkheid van twee of meer gebeurtenissen'<br> \n",
    "'exsection: Inferentiële statistiek,Toetstheorie,Hypotheses (nul en alternatief; één- en tweezijdig'}\n",
    "\n",
    "### Te verbeteren in csv file Open String Probability \n",
    "<b>Allemaal al correct, alleen achterhalen wat None betekent </b><br>\n",
    "'exsection: Probability/Elementary Probability/Random variables/Expected value'<br>\n",
    "'exsection: Probability/Elementary Probability/Conditional probability'<br>\n",
    "'None'<br>\n",
    "'exsection: Probability/Elementary Probability/General Rules/Union'<br>\n",
    "'exsection: Probability/Elementary Probability/Random variables/Rules for expected values'<br>\n",
    "'exsection: Probability/Elementary Probability/General Rules/Addition rule'<br>\n",
    "'exsection: Probability/Elementary Probability/General Rules/Multiplication rule'<br>\n",
    "\n",
    "### Te verbeteren in csv file Open String Inferential Statistics\n",
    "'None'"
   ]
  },
  {
   "cell_type": "markdown",
   "metadata": {},
   "source": [
    "# test met omzetten in veilige map\n"
   ]
  },
  {
   "cell_type": "code",
   "execution_count": 3,
   "metadata": {},
   "outputs": [
    {
     "name": "stdout",
     "output_type": "stream",
     "text": [
      "Renamed: C:\\Users\\stenp\\Documents\\Werk_2\\OpenString_Items\\Probability\\uva-addition-rule-654\\uva-addition-rule-654-nl_corrected.Rmd to C:\\Users\\stenp\\Documents\\Werk_2\\OpenString_Items\\Probability\\uva-addition-rule-654\\uva-addition-rule-654-nl.Rmd\n",
      "Renamed: C:\\Users\\stenp\\Documents\\Werk_2\\OpenString_Items\\Probability\\uva-conditional-probability-687\\uva-conditional-probability-687-nl_corrected.Rmd to C:\\Users\\stenp\\Documents\\Werk_2\\OpenString_Items\\Probability\\uva-conditional-probability-687\\uva-conditional-probability-687-nl.Rmd\n",
      "Renamed: C:\\Users\\stenp\\Documents\\Werk_2\\OpenString_Items\\Probability\\uva-conditional-probability-917\\uva-conditional-probability-917-nl_corrected.Rmd to C:\\Users\\stenp\\Documents\\Werk_2\\OpenString_Items\\Probability\\uva-conditional-probability-917\\uva-conditional-probability-917-nl.Rmd\n",
      "Renamed: C:\\Users\\stenp\\Documents\\Werk_2\\OpenString_Items\\Probability\\uva-conditional-probability-918\\uva-conditional-probability-918-nl_corrected.Rmd to C:\\Users\\stenp\\Documents\\Werk_2\\OpenString_Items\\Probability\\uva-conditional-probability-918\\uva-conditional-probability-918-nl.Rmd\n",
      "Renamed: C:\\Users\\stenp\\Documents\\Werk_2\\OpenString_Items\\Probability\\uva-elementary-probability-1007\\uva-elementary-probability-1007-nl_corrected.Rmd to C:\\Users\\stenp\\Documents\\Werk_2\\OpenString_Items\\Probability\\uva-elementary-probability-1007\\uva-elementary-probability-1007-nl.Rmd\n",
      "Renamed: C:\\Users\\stenp\\Documents\\Werk_2\\OpenString_Items\\Probability\\uva-elementary-probability-1008\\uva-elementary-probability-1008-nl_corrected.Rmd to C:\\Users\\stenp\\Documents\\Werk_2\\OpenString_Items\\Probability\\uva-elementary-probability-1008\\uva-elementary-probability-1008-nl.Rmd\n",
      "Renamed: C:\\Users\\stenp\\Documents\\Werk_2\\OpenString_Items\\Probability\\uva-elementary-probability-1010\\uva-elementary-probability-1010-nl_corrected.Rmd to C:\\Users\\stenp\\Documents\\Werk_2\\OpenString_Items\\Probability\\uva-elementary-probability-1010\\uva-elementary-probability-1010-nl.Rmd\n",
      "Renamed: C:\\Users\\stenp\\Documents\\Werk_2\\OpenString_Items\\Probability\\uva-elementary-probability-1011\\uva-elementary-probability-1011-nl_corrected.Rmd to C:\\Users\\stenp\\Documents\\Werk_2\\OpenString_Items\\Probability\\uva-elementary-probability-1011\\uva-elementary-probability-1011-nl.Rmd\n",
      "Renamed: C:\\Users\\stenp\\Documents\\Werk_2\\OpenString_Items\\Probability\\uva-elementary-probability-1012\\uva-elementary-probability-1012-nl_corrected.Rmd to C:\\Users\\stenp\\Documents\\Werk_2\\OpenString_Items\\Probability\\uva-elementary-probability-1012\\uva-elementary-probability-1012-nl.Rmd\n",
      "Renamed: C:\\Users\\stenp\\Documents\\Werk_2\\OpenString_Items\\Probability\\uva-elementary-probability-1013\\uva-elementary-probability-1013-nl_corrected.Rmd to C:\\Users\\stenp\\Documents\\Werk_2\\OpenString_Items\\Probability\\uva-elementary-probability-1013\\uva-elementary-probability-1013-nl.Rmd\n",
      "Renamed: C:\\Users\\stenp\\Documents\\Werk_2\\OpenString_Items\\Probability\\uva-elementary-probability-1014\\uva-elementary-probability-1014-nl_corrected.Rmd to C:\\Users\\stenp\\Documents\\Werk_2\\OpenString_Items\\Probability\\uva-elementary-probability-1014\\uva-elementary-probability-1014-nl.Rmd\n",
      "Renamed: C:\\Users\\stenp\\Documents\\Werk_2\\OpenString_Items\\Probability\\uva-elementary-probability-1049\\uva-elementary-probability-1049-nl_corrected.Rmd to C:\\Users\\stenp\\Documents\\Werk_2\\OpenString_Items\\Probability\\uva-elementary-probability-1049\\uva-elementary-probability-1049-nl.Rmd\n",
      "Renamed: C:\\Users\\stenp\\Documents\\Werk_2\\OpenString_Items\\Probability\\uva-elementary-probability-1051\\uva-elementary-probability-1051-nl_corrected.Rmd to C:\\Users\\stenp\\Documents\\Werk_2\\OpenString_Items\\Probability\\uva-elementary-probability-1051\\uva-elementary-probability-1051-nl.Rmd\n",
      "Renamed: C:\\Users\\stenp\\Documents\\Werk_2\\OpenString_Items\\Probability\\uva-elementary-probability-667\\uva-elementary-probability-667-nl_corrected.Rmd to C:\\Users\\stenp\\Documents\\Werk_2\\OpenString_Items\\Probability\\uva-elementary-probability-667\\uva-elementary-probability-667-nl.Rmd\n",
      "Renamed: C:\\Users\\stenp\\Documents\\Werk_2\\OpenString_Items\\Probability\\uva-elementary-probability-668\\uva-elementary-probability-668-nl_corrected.Rmd to C:\\Users\\stenp\\Documents\\Werk_2\\OpenString_Items\\Probability\\uva-elementary-probability-668\\uva-elementary-probability-668-nl.Rmd\n",
      "Renamed: C:\\Users\\stenp\\Documents\\Werk_2\\OpenString_Items\\Probability\\uva-elementary-probability-946\\uva-elementary-probability-946-nl_corrected.Rmd to C:\\Users\\stenp\\Documents\\Werk_2\\OpenString_Items\\Probability\\uva-elementary-probability-946\\uva-elementary-probability-946-nl.Rmd\n",
      "Renamed: C:\\Users\\stenp\\Documents\\Werk_2\\OpenString_Items\\Probability\\uva-elementary-probability-947\\uva-elementary-probability-947-nl_corrected.Rmd to C:\\Users\\stenp\\Documents\\Werk_2\\OpenString_Items\\Probability\\uva-elementary-probability-947\\uva-elementary-probability-947-nl.Rmd\n",
      "Renamed: C:\\Users\\stenp\\Documents\\Werk_2\\OpenString_Items\\Probability\\uva-elementary-probability-949\\uva-elementary-probability-949-nl_corrected.Rmd to C:\\Users\\stenp\\Documents\\Werk_2\\OpenString_Items\\Probability\\uva-elementary-probability-949\\uva-elementary-probability-949-nl.Rmd\n",
      "Renamed: C:\\Users\\stenp\\Documents\\Werk_2\\OpenString_Items\\Probability\\uva-elementary-probability-951\\uva-elementary-probability-951-nl_corrected.Rmd to C:\\Users\\stenp\\Documents\\Werk_2\\OpenString_Items\\Probability\\uva-elementary-probability-951\\uva-elementary-probability-951-nl.Rmd\n",
      "Renamed: C:\\Users\\stenp\\Documents\\Werk_2\\OpenString_Items\\Probability\\uva-elementary-probability-952\\uva-elementary-probability-952-nl_corrected.Rmd to C:\\Users\\stenp\\Documents\\Werk_2\\OpenString_Items\\Probability\\uva-elementary-probability-952\\uva-elementary-probability-952-nl.Rmd\n",
      "Renamed: C:\\Users\\stenp\\Documents\\Werk_2\\OpenString_Items\\Probability\\uva-expected-value-648\\uva-expected-value-648-nl_corrected.Rmd to C:\\Users\\stenp\\Documents\\Werk_2\\OpenString_Items\\Probability\\uva-expected-value-648\\uva-expected-value-648-nl.Rmd\n",
      "Renamed: C:\\Users\\stenp\\Documents\\Werk_2\\OpenString_Items\\Probability\\uva-expected-value-652\\uva-expected-value-652-nl_corrected.Rmd to C:\\Users\\stenp\\Documents\\Werk_2\\OpenString_Items\\Probability\\uva-expected-value-652\\uva-expected-value-652-nl.Rmd\n",
      "Renamed: C:\\Users\\stenp\\Documents\\Werk_2\\OpenString_Items\\Probability\\uva-expected-value-653\\uva-expected-value-653-nl_corrected.Rmd to C:\\Users\\stenp\\Documents\\Werk_2\\OpenString_Items\\Probability\\uva-expected-value-653\\uva-expected-value-653-nl.Rmd\n",
      "Renamed: C:\\Users\\stenp\\Documents\\Werk_2\\OpenString_Items\\Probability\\uva-expected-value-658\\uva-expected-value-658-nl_corrected.Rmd to C:\\Users\\stenp\\Documents\\Werk_2\\OpenString_Items\\Probability\\uva-expected-value-658\\uva-expected-value-658-nl.Rmd\n",
      "Renamed: C:\\Users\\stenp\\Documents\\Werk_2\\OpenString_Items\\Probability\\uva-expected-value-665\\uva-expected-value-665-nl_corrected.Rmd to C:\\Users\\stenp\\Documents\\Werk_2\\OpenString_Items\\Probability\\uva-expected-value-665\\uva-expected-value-665-nl.Rmd\n",
      "Renamed: C:\\Users\\stenp\\Documents\\Werk_2\\OpenString_Items\\Probability\\uva-expected-value-666\\uva-expected-value-666-nl_corrected.Rmd to C:\\Users\\stenp\\Documents\\Werk_2\\OpenString_Items\\Probability\\uva-expected-value-666\\uva-expected-value-666-nl.Rmd\n",
      "Renamed: C:\\Users\\stenp\\Documents\\Werk_2\\OpenString_Items\\Probability\\uva-expected-value-763\\uva-expected-value-763-nl_corrected.Rmd to C:\\Users\\stenp\\Documents\\Werk_2\\OpenString_Items\\Probability\\uva-expected-value-763\\uva-expected-value-763-nl.Rmd\n",
      "Renamed: C:\\Users\\stenp\\Documents\\Werk_2\\OpenString_Items\\Probability\\uva-general-rules-1009\\uva-general-rules-1009-nl_corrected.Rmd to C:\\Users\\stenp\\Documents\\Werk_2\\OpenString_Items\\Probability\\uva-general-rules-1009\\uva-general-rules-1009-nl.Rmd\n",
      "Renamed: C:\\Users\\stenp\\Documents\\Werk_2\\OpenString_Items\\Probability\\uva-general-rules-646\\uva-general-rules-646-nl_corrected.Rmd to C:\\Users\\stenp\\Documents\\Werk_2\\OpenString_Items\\Probability\\uva-general-rules-646\\uva-general-rules-646-nl.Rmd\n",
      "Renamed: C:\\Users\\stenp\\Documents\\Werk_2\\OpenString_Items\\Probability\\uva-general-rules-656\\uva-general-rules-656-nl_corrected.Rmd to C:\\Users\\stenp\\Documents\\Werk_2\\OpenString_Items\\Probability\\uva-general-rules-656\\uva-general-rules-656-nl.Rmd\n",
      "Renamed: C:\\Users\\stenp\\Documents\\Werk_2\\OpenString_Items\\Probability\\uva-general-rules-677\\uva-general-rules-677-nl_corrected.Rmd to C:\\Users\\stenp\\Documents\\Werk_2\\OpenString_Items\\Probability\\uva-general-rules-677\\uva-general-rules-677-nl.Rmd\n",
      "Renamed: C:\\Users\\stenp\\Documents\\Werk_2\\OpenString_Items\\Probability\\uva-general-rules-686\\uva-general-rules-686-nl_corrected.Rmd to C:\\Users\\stenp\\Documents\\Werk_2\\OpenString_Items\\Probability\\uva-general-rules-686\\uva-general-rules-686-nl.Rmd\n",
      "Renamed: C:\\Users\\stenp\\Documents\\Werk_2\\OpenString_Items\\Probability\\uva-general-rules-765\\uva-general-rules-765-nl_corrected.Rmd to C:\\Users\\stenp\\Documents\\Werk_2\\OpenString_Items\\Probability\\uva-general-rules-765\\uva-general-rules-765-nl.Rmd\n",
      "Renamed: C:\\Users\\stenp\\Documents\\Werk_2\\OpenString_Items\\Probability\\uva-multiplication-rule-651\\uva-multiplication-rule-651-nl_corrected.Rmd to C:\\Users\\stenp\\Documents\\Werk_2\\OpenString_Items\\Probability\\uva-multiplication-rule-651\\uva-multiplication-rule-651-nl.Rmd\n",
      "Renamed: C:\\Users\\stenp\\Documents\\Werk_2\\OpenString_Items\\Probability\\uva-multiplication-rule-657\\uva-multiplication-rule-657-nl_corrected.Rmd to C:\\Users\\stenp\\Documents\\Werk_2\\OpenString_Items\\Probability\\uva-multiplication-rule-657\\uva-multiplication-rule-657-nl.Rmd\n",
      "Renamed: C:\\Users\\stenp\\Documents\\Werk_2\\OpenString_Items\\Probability\\uva-multiplication-rule-669\\uva-multiplication-rule-669-nl_corrected.Rmd to C:\\Users\\stenp\\Documents\\Werk_2\\OpenString_Items\\Probability\\uva-multiplication-rule-669\\uva-multiplication-rule-669-nl.Rmd\n",
      "Renamed: C:\\Users\\stenp\\Documents\\Werk_2\\OpenString_Items\\Probability\\uva-multiplication-rule-670\\uva-multiplication-rule-670-nl_corrected.Rmd to C:\\Users\\stenp\\Documents\\Werk_2\\OpenString_Items\\Probability\\uva-multiplication-rule-670\\uva-multiplication-rule-670-nl.Rmd\n",
      "Renamed: C:\\Users\\stenp\\Documents\\Werk_2\\OpenString_Items\\Probability\\uva-rules-for-expected-values-655\\uva-rules-for-expected-values-655-nl_corrected.Rmd to C:\\Users\\stenp\\Documents\\Werk_2\\OpenString_Items\\Probability\\uva-rules-for-expected-values-655\\uva-rules-for-expected-values-655-nl.Rmd\n",
      "Renamed: C:\\Users\\stenp\\Documents\\Werk_2\\OpenString_Items\\Probability\\uva-union-688\\uva-union-688-nl_corrected.Rmd to C:\\Users\\stenp\\Documents\\Werk_2\\OpenString_Items\\Probability\\uva-union-688\\uva-union-688-nl.Rmd\n"
     ]
    }
   ],
   "source": [
    "def remove_suffix_from_files(directory):\n",
    "    for root, dirs, files in os.walk(directory):\n",
    "        for file in files:\n",
    "            if file.endswith(\"_corrected.Rmd\"):\n",
    "                original_path = os.path.join(root, file)\n",
    "                new_name = file.replace(\"_corrected.Rmd\", \".Rmd\")\n",
    "                new_path = os.path.join(root, new_name)\n",
    "                os.rename(original_path, new_path)\n",
    "                print(f'Renamed: {original_path} to {new_path}')\n",
    "\n",
    "#directory_path = \"C:\\\\Users\\\\stenp\\\\Documents\\\\Werk_2\\\\MultipleChoice_Items\\\\Descriptive statistics\\\\corrected_files\"\n",
    "#directory_path = \"C:\\\\Users\\\\stenp\\\\Documents\\\\Werk_2\\\\MultipleChoice_Items\\\\Inferential statistics\\\\corrected_files\"\n",
    "#directory_path = \"C:\\\\Users\\\\stenp\\\\Documents\\\\Werk_2\\\\MultipleChoice_Items\\\\Probability\\\\corrected_files\"\n",
    "#directory_path = \"C:\\\\Users\\\\stenp\\\\Documents\\\\Werk_2\\\\OpenString_Items\"\n",
    "remove_suffix_from_files(directory_path)"
   ]
  },
  {
   "cell_type": "markdown",
   "metadata": {},
   "source": [
    "# niet runnen destructief!!!"
   ]
  },
  {
   "cell_type": "code",
   "execution_count": 2,
   "metadata": {},
   "outputs": [
    {
     "name": "stdout",
     "output_type": "stream",
     "text": [
      "Removed: C:\\Users\\stenp\\Documents\\Werk_2\\OpenString_Items\\Probability\\uva-addition-rule-654\\uva-addition-rule-654-nl.Rmd\n",
      "Removed: C:\\Users\\stenp\\Documents\\Werk_2\\OpenString_Items\\Probability\\uva-conditional-probability-687\\uva-conditional-probability-687-nl.Rmd\n",
      "Removed: C:\\Users\\stenp\\Documents\\Werk_2\\OpenString_Items\\Probability\\uva-conditional-probability-917\\uva-conditional-probability-917-nl.Rmd\n",
      "Removed: C:\\Users\\stenp\\Documents\\Werk_2\\OpenString_Items\\Probability\\uva-conditional-probability-918\\uva-conditional-probability-918-nl.Rmd\n",
      "Removed: C:\\Users\\stenp\\Documents\\Werk_2\\OpenString_Items\\Probability\\uva-elementary-probability-1007\\uva-elementary-probability-1007-nl.Rmd\n",
      "Removed: C:\\Users\\stenp\\Documents\\Werk_2\\OpenString_Items\\Probability\\uva-elementary-probability-1008\\uva-elementary-probability-1008-nl.Rmd\n",
      "Removed: C:\\Users\\stenp\\Documents\\Werk_2\\OpenString_Items\\Probability\\uva-elementary-probability-1010\\uva-elementary-probability-1010-nl.Rmd\n",
      "Removed: C:\\Users\\stenp\\Documents\\Werk_2\\OpenString_Items\\Probability\\uva-elementary-probability-1011\\uva-elementary-probability-1011-nl.Rmd\n",
      "Removed: C:\\Users\\stenp\\Documents\\Werk_2\\OpenString_Items\\Probability\\uva-elementary-probability-1012\\uva-elementary-probability-1012-nl.Rmd\n",
      "Removed: C:\\Users\\stenp\\Documents\\Werk_2\\OpenString_Items\\Probability\\uva-elementary-probability-1013\\uva-elementary-probability-1013-nl.Rmd\n",
      "Removed: C:\\Users\\stenp\\Documents\\Werk_2\\OpenString_Items\\Probability\\uva-elementary-probability-1014\\uva-elementary-probability-1014-nl.Rmd\n",
      "Removed: C:\\Users\\stenp\\Documents\\Werk_2\\OpenString_Items\\Probability\\uva-elementary-probability-1049\\uva-elementary-probability-1049-nl.Rmd\n",
      "Removed: C:\\Users\\stenp\\Documents\\Werk_2\\OpenString_Items\\Probability\\uva-elementary-probability-1051\\uva-elementary-probability-1051-nl.Rmd\n",
      "Removed: C:\\Users\\stenp\\Documents\\Werk_2\\OpenString_Items\\Probability\\uva-elementary-probability-667\\uva-elementary-probability-667-nl.Rmd\n",
      "Removed: C:\\Users\\stenp\\Documents\\Werk_2\\OpenString_Items\\Probability\\uva-elementary-probability-668\\uva-elementary-probability-668-nl.Rmd\n",
      "Removed: C:\\Users\\stenp\\Documents\\Werk_2\\OpenString_Items\\Probability\\uva-elementary-probability-946\\uva-elementary-probability-946-nl.Rmd\n",
      "Removed: C:\\Users\\stenp\\Documents\\Werk_2\\OpenString_Items\\Probability\\uva-elementary-probability-947\\uva-elementary-probability-947-nl.Rmd\n",
      "Removed: C:\\Users\\stenp\\Documents\\Werk_2\\OpenString_Items\\Probability\\uva-elementary-probability-949\\uva-elementary-probability-949-nl.Rmd\n",
      "Removed: C:\\Users\\stenp\\Documents\\Werk_2\\OpenString_Items\\Probability\\uva-elementary-probability-951\\uva-elementary-probability-951-nl.Rmd\n",
      "Removed: C:\\Users\\stenp\\Documents\\Werk_2\\OpenString_Items\\Probability\\uva-elementary-probability-952\\uva-elementary-probability-952-nl.Rmd\n",
      "Removed: C:\\Users\\stenp\\Documents\\Werk_2\\OpenString_Items\\Probability\\uva-expected-value-648\\uva-expected-value-648-nl.Rmd\n",
      "Removed: C:\\Users\\stenp\\Documents\\Werk_2\\OpenString_Items\\Probability\\uva-expected-value-652\\uva-expected-value-652-nl.Rmd\n",
      "Removed: C:\\Users\\stenp\\Documents\\Werk_2\\OpenString_Items\\Probability\\uva-expected-value-653\\uva-expected-value-653-nl.Rmd\n",
      "Removed: C:\\Users\\stenp\\Documents\\Werk_2\\OpenString_Items\\Probability\\uva-expected-value-658\\uva-expected-value-658-nl.Rmd\n",
      "Removed: C:\\Users\\stenp\\Documents\\Werk_2\\OpenString_Items\\Probability\\uva-expected-value-665\\uva-expected-value-665-nl.Rmd\n",
      "Removed: C:\\Users\\stenp\\Documents\\Werk_2\\OpenString_Items\\Probability\\uva-expected-value-666\\uva-expected-value-666-nl.Rmd\n",
      "Removed: C:\\Users\\stenp\\Documents\\Werk_2\\OpenString_Items\\Probability\\uva-expected-value-763\\uva-expected-value-763-nl.Rmd\n",
      "Removed: C:\\Users\\stenp\\Documents\\Werk_2\\OpenString_Items\\Probability\\uva-general-rules-1009\\uva-general-rules-1009-nl.Rmd\n",
      "Removed: C:\\Users\\stenp\\Documents\\Werk_2\\OpenString_Items\\Probability\\uva-general-rules-646\\uva-general-rules-646-nl.Rmd\n",
      "Removed: C:\\Users\\stenp\\Documents\\Werk_2\\OpenString_Items\\Probability\\uva-general-rules-656\\uva-general-rules-656-nl.Rmd\n",
      "Removed: C:\\Users\\stenp\\Documents\\Werk_2\\OpenString_Items\\Probability\\uva-general-rules-677\\uva-general-rules-677-nl.Rmd\n",
      "Removed: C:\\Users\\stenp\\Documents\\Werk_2\\OpenString_Items\\Probability\\uva-general-rules-686\\uva-general-rules-686-nl.Rmd\n",
      "Removed: C:\\Users\\stenp\\Documents\\Werk_2\\OpenString_Items\\Probability\\uva-general-rules-765\\uva-general-rules-765-nl.Rmd\n",
      "Removed: C:\\Users\\stenp\\Documents\\Werk_2\\OpenString_Items\\Probability\\uva-multiplication-rule-651\\uva-multiplication-rule-651-nl.Rmd\n",
      "Removed: C:\\Users\\stenp\\Documents\\Werk_2\\OpenString_Items\\Probability\\uva-multiplication-rule-657\\uva-multiplication-rule-657-nl.Rmd\n",
      "Removed: C:\\Users\\stenp\\Documents\\Werk_2\\OpenString_Items\\Probability\\uva-multiplication-rule-669\\uva-multiplication-rule-669-nl.Rmd\n",
      "Removed: C:\\Users\\stenp\\Documents\\Werk_2\\OpenString_Items\\Probability\\uva-multiplication-rule-670\\uva-multiplication-rule-670-nl.Rmd\n",
      "Removed: C:\\Users\\stenp\\Documents\\Werk_2\\OpenString_Items\\Probability\\uva-rules-for-expected-values-655\\uva-rules-for-expected-values-655-nl.Rmd\n",
      "Removed: C:\\Users\\stenp\\Documents\\Werk_2\\OpenString_Items\\Probability\\uva-union-688\\uva-union-688-nl.Rmd\n"
     ]
    }
   ],
   "source": [
    "########def remove_and_rename_files(directory):\n",
    "    for root, dirs, files in os.walk(directory):\n",
    "        for file in files:\n",
    "            if not file.endswith(\"_corrected.Rmd\") and file.endswith(\".Rmd\"):\n",
    "                file_path = os.path.join(root, file)\n",
    "                os.remove(file_path)\n",
    "                print(f'Removed: {file_path}')\n",
    "directory_path = \"C:\\\\Users\\\\stenp\\\\Documents\\\\Werk_2\\\\OpenString_Items\\\\Probability\"\n",
    "remove_and_rename_files(directory_path)"
   ]
  },
  {
   "cell_type": "markdown",
   "metadata": {},
   "source": [
    "# Rotzooi code, niet runnen"
   ]
  },
  {
   "cell_type": "code",
   "execution_count": null,
   "metadata": {},
   "outputs": [],
   "source": []
  },
  {
   "cell_type": "code",
   "execution_count": null,
   "id": "7df92137",
   "metadata": {},
   "outputs": [],
   "source": [
    "def tax_converter(path, table):\n",
    "    if path.endswith('.Rmd'):\n",
    "        # Process individual Rmd files\n",
    "        corrected_file = path.replace('.Rmd', '_corrected.Rmd')\n",
    "\n",
    "        # Skip processing if it's already a corrected file\n",
    "        if corrected_file.endswith('_corrected.Rmd'):\n",
    "            return\n",
    "\n",
    "        not_found = set()\n",
    "        updated = False\n",
    "        with open(path, 'r') as source_file, open(corrected_file, 'w') as corrected_file:\n",
    "            for line in source_file:\n",
    "                # Find the 'exsection:' line in the files\n",
    "                if line.startswith('exsection:'):\n",
    "                    # Save the line and strip it from leading and trailing whitespace\n",
    "                    to_convert_line = line.strip()\n",
    "                    index_oldTax = taxonomy_conversion_table[taxonomy_conversion_table['oldTax'] == to_convert_line + ' '].index\n",
    "                    if not index_oldTax.empty:\n",
    "                        new_line = taxonomy_conversion_table.loc[index_oldTax, 'newTax']\n",
    "                        corrected_file.write(new_line + '\\n')\n",
    "                        updated = True\n",
    "                        continue\n",
    "                    elif index_oldTax.empty:\n",
    "                        index_newTax = taxonomy_conversion_table[taxonomy_conversion_table['newTax'] == to_convert_line].index\n",
    "                        if not index_newTax.empty:\n",
    "                            corrected_file.write(line)\n",
    "                            updated = True\n",
    "                        else:\n",
    "                            # Line is not found in the table at all, don't do anything with it and save its location\n",
    "                            not_found.add(to_convert_line)\n",
    "                else:\n",
    "                    corrected_file.write(line)\n",
    "        if not updated:\n",
    "            return (path + ' not updated', not_found)\n",
    "        else:\n",
    "            return (path + ' correctly updated')"
   ]
  },
  {
   "cell_type": "code",
   "execution_count": null,
   "metadata": {},
   "outputs": [],
   "source": [
    "#zoek door alle files in de variabele multiple choice map\n",
    "for root, _, files in os.walk(mc_directory_laptop):\n",
    "    for filename in files:\n",
    "        if filename.endswith('.Rmd'):\n",
    "            file_path = os.path.join(root, filename)  # Use os.path.join to construct the file path\n",
    "            print(file_path)\n",
    "            \n",
    "            tax_converter_GPT(file_path, taxonomy_conversion_table)\n",
    "            \n",
    "        else:\n",
    "            continue"
   ]
  },
  {
   "cell_type": "code",
   "execution_count": null,
   "metadata": {},
   "outputs": [],
   "source": [
    "#tax_converter_GPT(\"E:\\\\Werk_C\\\\StatistiekFabriekItemConversion\\\\MultipleChoice\\\\MultipleChoice_Items\\\\Inferential statistics\\\\uva-inferential statistics-250-nl.Rmd\",taxonomy_conversion_table)\n",
    "#tax_converter_GPT(\"C:\\\\Users\\\\stenp\\\\Documents\\\\Werk_C\\\\StatistiekFabriekItemConversion\\\\MultipleChoice\\\\MultipleChoice_Items\\\\Inferential statistics\\\\uva-inferential statistics-269-nl.Rmd\\\\uva-inferential statistics-269-nl.Rmd\", taxonomy_conversion_table)"
   ]
  }
 ],
 "metadata": {
  "kernelspec": {
   "display_name": "Python 3 (ipykernel)",
   "language": "python",
   "name": "python3"
  },
  "language_info": {
   "codemirror_mode": {
    "name": "ipython",
    "version": 3
   },
   "file_extension": ".py",
   "mimetype": "text/x-python",
   "name": "python",
   "nbconvert_exporter": "python",
   "pygments_lexer": "ipython3",
   "version": "3.11.5"
  }
 },
 "nbformat": 4,
 "nbformat_minor": 5
}
